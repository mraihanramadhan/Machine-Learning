{
  "nbformat": 4,
  "nbformat_minor": 0,
  "metadata": {
    "colab": {
      "name": "Week8_Scikit Learn_Exercise1_Classification.ipynb",
      "provenance": [],
      "collapsed_sections": [],
      "include_colab_link": true
    },
    "kernelspec": {
      "name": "python3",
      "display_name": "Python 3"
    },
    "language_info": {
      "name": "python"
    }
  },
  "cells": [
    {
      "cell_type": "markdown",
      "metadata": {
        "id": "view-in-github",
        "colab_type": "text"
      },
      "source": [
        "<a href=\"https://colab.research.google.com/github/mraihanramadhan/Machine-Learning/blob/main/Week8_Scikit%20Learn_Exercise1_Classification.ipynb\" target=\"_parent\"><img src=\"https://colab.research.google.com/assets/colab-badge.svg\" alt=\"Open In Colab\"/></a>"
      ]
    },
    {
      "cell_type": "code",
      "metadata": {
        "colab": {
          "base_uri": "https://localhost:8080/"
        },
        "id": "O0BrDDlvrStl",
        "outputId": "0667611a-2061-477c-ad6f-de8118e6c595"
      },
      "source": [
        "from sklearn import svm\n",
        "X = [[0, 0], [1, 1]]\n",
        "y = [0, 1]\n",
        "clf = svm.SVC()\n",
        "clf.fit(X, y)"
      ],
      "execution_count": null,
      "outputs": [
        {
          "output_type": "execute_result",
          "data": {
            "text/plain": [
              "SVC()"
            ]
          },
          "metadata": {},
          "execution_count": 1
        }
      ]
    },
    {
      "cell_type": "code",
      "metadata": {
        "colab": {
          "base_uri": "https://localhost:8080/"
        },
        "id": "liBS7dPXrj00",
        "outputId": "cfcfd300-7e81-4fd7-f09c-d077939c6746"
      },
      "source": [
        "clf.predict([[2., 2.]])"
      ],
      "execution_count": null,
      "outputs": [
        {
          "output_type": "execute_result",
          "data": {
            "text/plain": [
              "array([1])"
            ]
          },
          "metadata": {},
          "execution_count": 2
        }
      ]
    },
    {
      "cell_type": "code",
      "metadata": {
        "colab": {
          "base_uri": "https://localhost:8080/"
        },
        "id": "y9Dh4ZEdrnNK",
        "outputId": "401ed81a-9007-441c-a1f7-6ee474dae787"
      },
      "source": [
        "# get support vectors\n",
        "clf.support_vectors_\n",
        "\n",
        "\n",
        "# get indices of support vectors\n",
        "clf.support_\n",
        "\n",
        "# get number of support vectors for each class\n",
        "clf.n_support_"
      ],
      "execution_count": null,
      "outputs": [
        {
          "output_type": "execute_result",
          "data": {
            "text/plain": [
              "array([1, 1], dtype=int32)"
            ]
          },
          "metadata": {},
          "execution_count": 3
        }
      ]
    },
    {
      "cell_type": "markdown",
      "metadata": {
        "id": "FxYCg4Z8ruKB"
      },
      "source": [
        "**Multi-class classification**"
      ]
    },
    {
      "cell_type": "code",
      "metadata": {
        "colab": {
          "base_uri": "https://localhost:8080/"
        },
        "id": "_fYZ--LerrL0",
        "outputId": "29462dc9-adaf-4058-a509-9d4d62445803"
      },
      "source": [
        "X = [[0], [1], [2], [3]]\n",
        "Y = [0, 1, 2, 3]\n",
        "clf = svm.SVC(decision_function_shape='ovo')\n",
        "clf.fit(X, Y)\n",
        "\n",
        "dec = clf.decision_function([[1]])\n",
        "dec.shape[1] # 4 classes: 4*3/2 = 6\n",
        "\n",
        "clf.decision_function_shape = \"ovr\"\n",
        "dec = clf.decision_function([[1]])\n",
        "dec.shape[1] # 4 classes"
      ],
      "execution_count": null,
      "outputs": [
        {
          "output_type": "execute_result",
          "data": {
            "text/plain": [
              "4"
            ]
          },
          "metadata": {},
          "execution_count": 4
        }
      ]
    },
    {
      "cell_type": "code",
      "metadata": {
        "colab": {
          "base_uri": "https://localhost:8080/"
        },
        "id": "IImVUB_xrz10",
        "outputId": "0d4c0242-3744-4e9b-c421-db2a23248430"
      },
      "source": [
        "lin_clf = svm.LinearSVC()\n",
        "lin_clf.fit(X, Y)\n",
        "\n",
        "dec = lin_clf.decision_function([[1]])\n",
        "dec.shape[1]"
      ],
      "execution_count": null,
      "outputs": [
        {
          "output_type": "execute_result",
          "data": {
            "text/plain": [
              "4"
            ]
          },
          "metadata": {},
          "execution_count": 5
        }
      ]
    }
  ]
}