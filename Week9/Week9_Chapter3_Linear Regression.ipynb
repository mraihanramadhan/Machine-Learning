{
  "nbformat": 4,
  "nbformat_minor": 0,
  "metadata": {
    "colab": {
      "name": "Week9_Chapter 3_Linear Regression",
      "provenance": [],
      "authorship_tag": "ABX9TyOi+bIft2Ooz4/fgUThrY8D",
      "include_colab_link": true
    },
    "kernelspec": {
      "name": "python3",
      "display_name": "Python 3"
    },
    "language_info": {
      "name": "python"
    }
  },
  "cells": [
    {
      "cell_type": "markdown",
      "metadata": {
        "id": "view-in-github",
        "colab_type": "text"
      },
      "source": [
        "<a href=\"https://colab.research.google.com/github/mraihanramadhan/Machine-Learning/blob/main/Week9_Chapter3_Linear%20Regression.ipynb\" target=\"_parent\"><img src=\"https://colab.research.google.com/assets/colab-badge.svg\" alt=\"Open In Colab\"/></a>"
      ]
    },
    {
      "cell_type": "markdown",
      "metadata": {
        "id": "U-143Of2puvI"
      },
      "source": [
        "Import Library"
      ]
    },
    {
      "cell_type": "code",
      "metadata": {
        "id": "v8kNWWVkpuUl"
      },
      "source": [
        "%matplotlib inline\n",
        "import math\n",
        "import time\n",
        "import numpy as np\n",
        "import torch\n",
        "import random\n",
        "from d2l import torch as d2l\n",
        "\n",
        "from IPython import display\n",
        "import torchvision\n",
        "from torch.utils import data\n",
        "from torchvision import transforms\n",
        "from torch import nn\n",
        "\n",
        "d2l.use_svg_display()"
      ],
      "execution_count": null,
      "outputs": []
    },
    {
      "cell_type": "markdown",
      "metadata": {
        "id": "pCAMxjpTp79Y"
      },
      "source": [
        "Linear Regression"
      ]
    },
    {
      "cell_type": "markdown",
      "metadata": {
        "id": "jWE3OLX-qB7H"
      },
      "source": [
        "Vectorization For Speed"
      ]
    },
    {
      "cell_type": "code",
      "metadata": {
        "id": "X-UQeKC1qEUj"
      },
      "source": [
        "n = 10000\n",
        "a = torch.ones(n)\n",
        "b = torch.ones(n)"
      ],
      "execution_count": 12,
      "outputs": []
    },
    {
      "cell_type": "code",
      "metadata": {
        "id": "ev-vtLHdqHKy"
      },
      "source": [
        "class Timer:  #@save\n",
        "    \"\"\"Record multiple running times.\"\"\"\n",
        "    def __init__(self):\n",
        "        self.times = []\n",
        "        self.start()\n",
        "\n",
        "    def start(self):\n",
        "        \"\"\"Start the timer.\"\"\"\n",
        "        self.tik = time.time()\n",
        "\n",
        "    def stop(self):\n",
        "        \"\"\"Stop the timer and record the time in a list.\"\"\"\n",
        "        self.times.append(time.time() - self.tik)\n",
        "        return self.times[-1]\n",
        "\n",
        "    def avg(self):\n",
        "        \"\"\"Return the average time.\"\"\"\n",
        "        return sum(self.times) / len(self.times)\n",
        "\n",
        "    def sum(self):\n",
        "        \"\"\"Return the sum of time.\"\"\"\n",
        "        return sum(self.times)\n",
        "\n",
        "    def cumsum(self):\n",
        "        \"\"\"Return the accumulated time.\"\"\"\n",
        "        return np.array(self.times).cumsum().tolist()"
      ],
      "execution_count": 13,
      "outputs": []
    },
    {
      "cell_type": "code",
      "metadata": {
        "colab": {
          "base_uri": "https://localhost:8080/",
          "height": 35
        },
        "id": "e1B2CjDSqNl3",
        "outputId": "9f5272fe-d428-4e2a-c4cc-002cbb6170bf"
      },
      "source": [
        "c = torch.zeros(n)\n",
        "timer = Timer()\n",
        "for i in range(n):\n",
        "    c[i] = a[i] + b[i]\n",
        "f'{timer.stop():.5f} sec'"
      ],
      "execution_count": 14,
      "outputs": [
        {
          "output_type": "execute_result",
          "data": {
            "application/vnd.google.colaboratory.intrinsic+json": {
              "type": "string"
            },
            "text/plain": [
              "'0.08807 sec'"
            ]
          },
          "metadata": {},
          "execution_count": 14
        }
      ]
    },
    {
      "cell_type": "code",
      "metadata": {
        "colab": {
          "base_uri": "https://localhost:8080/",
          "height": 35
        },
        "id": "m09a7zwjqQGG",
        "outputId": "aef10e62-74b2-4b4e-c1c6-bee32ca5ed72"
      },
      "source": [
        "timer.start()\n",
        "d = a + b\n",
        "f'{timer.stop():.5f} sec'"
      ],
      "execution_count": 15,
      "outputs": [
        {
          "output_type": "execute_result",
          "data": {
            "application/vnd.google.colaboratory.intrinsic+json": {
              "type": "string"
            },
            "text/plain": [
              "'0.00014 sec'"
            ]
          },
          "metadata": {},
          "execution_count": 15
        }
      ]
    },
    {
      "cell_type": "markdown",
      "metadata": {
        "id": "U0pczMVFqVm2"
      },
      "source": [
        "The Normal Distribution and Squared Loss"
      ]
    },
    {
      "cell_type": "code",
      "metadata": {
        "id": "0heRnF10qWEF"
      },
      "source": [
        "def normal(x, mu, sigma):\n",
        "    p = 1 / math.sqrt(2 * math.pi * sigma**2)\n",
        "    return p * np.exp(-0.5 / sigma**2 * (x - mu)**2)"
      ],
      "execution_count": 16,
      "outputs": []
    },
    {
      "cell_type": "code",
      "metadata": {
        "id": "TmEB6lfiruVB"
      },
      "source": [
        "# Use numpy again for visualization\n",
        "x = np.arange(-7, 7, 0.01)\n",
        "\n",
        "# Mean and standard deviation pairs\n",
        "params = [(0, 1), (0, 2), (3, 1)]\n",
        "d2l.plot(x, [normal(x, mu, sigma) for mu, sigma in params], xlabel='x',\n",
        "         ylabel='p(x)', figsize=(4.5, 2.5),\n",
        "         legend=[f'mean {mu}, std {sigma}' for mu, sigma in params])"
      ],
      "execution_count": null,
      "outputs": []
    },
    {
      "cell_type": "markdown",
      "metadata": {
        "id": "k1cKqboorwIt"
      },
      "source": [
        "Linear Regression Scratch"
      ]
    },
    {
      "cell_type": "markdown",
      "metadata": {
        "id": "ufGktOxJr0Mw"
      },
      "source": [
        "Generating The Dataset"
      ]
    },
    {
      "cell_type": "code",
      "metadata": {
        "id": "tpYqVrKvr1n-"
      },
      "source": [
        "def synthetic_data(w, b, num_examples):  #@save\n",
        "    \"\"\"Generate y = Xw + b + noise.\"\"\"\n",
        "    X = torch.normal(0, 1, (num_examples, len(w)))\n",
        "    y = torch.matmul(X, w) + b\n",
        "    y += torch.normal(0, 0.01, y.shape)\n",
        "    return X, y.reshape((-1, 1))"
      ],
      "execution_count": 18,
      "outputs": []
    },
    {
      "cell_type": "code",
      "metadata": {
        "id": "gCfs9on1r6M2"
      },
      "source": [
        "true_w = torch.tensor([2, -3.4])\n",
        "true_b = 4.2\n",
        "features, labels = synthetic_data(true_w, true_b, 1000)"
      ],
      "execution_count": 19,
      "outputs": []
    },
    {
      "cell_type": "code",
      "metadata": {
        "colab": {
          "base_uri": "https://localhost:8080/"
        },
        "id": "b0e6HcXKr7CJ",
        "outputId": "0f0dc9eb-c490-4d48-ee7e-ce5467785113"
      },
      "source": [
        "print('features:', features[0], '\\nlabel:', labels[0])\n"
      ],
      "execution_count": 20,
      "outputs": [
        {
          "output_type": "stream",
          "name": "stdout",
          "text": [
            "features: tensor([-2.3164, -0.7222]) \n",
            "label: tensor([2.0259])\n"
          ]
        }
      ]
    },
    {
      "cell_type": "code",
      "metadata": {
        "id": "AyC5rDMtsAqt"
      },
      "source": [
        "d2l.set_figsize()\n",
        "# The semicolon is for displaying the plot only\n",
        "d2l.plt.scatter(features[:, (1)].detach().numpy(),\n",
        "                labels.detach().numpy(), 1);"
      ],
      "execution_count": null,
      "outputs": []
    },
    {
      "cell_type": "markdown",
      "metadata": {
        "id": "PKMOqp3ssBGd"
      },
      "source": [
        "Reading The Dataset"
      ]
    },
    {
      "cell_type": "code",
      "metadata": {
        "id": "Gvhn3GtSsCzw"
      },
      "source": [
        "def data_iter(batch_size, features, labels):\n",
        "    num_examples = len(features)\n",
        "    indices = list(range(num_examples))\n",
        "    # The examples are read at random, in no particular order\n",
        "    random.shuffle(indices)\n",
        "    for i in range(0, num_examples, batch_size):\n",
        "        batch_indices = torch.tensor(indices[i:min(i +\n",
        "                                                   batch_size, num_examples)])\n",
        "        yield features[batch_indices], labels[batch_indices]"
      ],
      "execution_count": 22,
      "outputs": []
    },
    {
      "cell_type": "code",
      "metadata": {
        "colab": {
          "base_uri": "https://localhost:8080/"
        },
        "id": "e2w2AvDWsFyi",
        "outputId": "e2f7f0e9-b388-47f5-ae6d-062967c1cd42"
      },
      "source": [
        "batch_size = 10\n",
        "\n",
        "for X, y in data_iter(batch_size, features, labels):\n",
        "    print(X, '\\n', y)\n",
        "    break"
      ],
      "execution_count": 23,
      "outputs": [
        {
          "output_type": "stream",
          "name": "stdout",
          "text": [
            "tensor([[-0.1737, -0.2889],\n",
            "        [-0.2117, -1.1520],\n",
            "        [ 0.9959,  0.5439],\n",
            "        [ 1.3548,  0.2116],\n",
            "        [-0.2688, -0.7844],\n",
            "        [-0.2812,  1.7249],\n",
            "        [ 0.7900,  0.4125],\n",
            "        [ 1.1198, -0.1361],\n",
            "        [ 0.7047, -0.1821],\n",
            "        [-0.1776,  1.6861]]) \n",
            " tensor([[ 4.8539],\n",
            "        [ 7.6917],\n",
            "        [ 4.3561],\n",
            "        [ 6.1903],\n",
            "        [ 6.3237],\n",
            "        [-2.2397],\n",
            "        [ 4.3704],\n",
            "        [ 6.9028],\n",
            "        [ 6.2365],\n",
            "        [-1.8910]])\n"
          ]
        }
      ]
    },
    {
      "cell_type": "markdown",
      "metadata": {
        "id": "wRx0ev96sKs-"
      },
      "source": [
        "Initializing Model Parameter"
      ]
    },
    {
      "cell_type": "code",
      "metadata": {
        "id": "8NQYVfNqsM7c"
      },
      "source": [
        "w = torch.normal(0, 0.01, size=(2, 1), requires_grad=True)\n",
        "b = torch.zeros(1, requires_grad=True)"
      ],
      "execution_count": 24,
      "outputs": []
    },
    {
      "cell_type": "markdown",
      "metadata": {
        "id": "C8cGIeY9sQPq"
      },
      "source": [
        "Defining The Model"
      ]
    },
    {
      "cell_type": "code",
      "metadata": {
        "id": "UsDueDqhsQuP"
      },
      "source": [
        "def linreg(X, w, b):  #@save\n",
        "    \"\"\"The linear regression model.\"\"\"\n",
        "    return torch.matmul(X, w) + b"
      ],
      "execution_count": 25,
      "outputs": []
    },
    {
      "cell_type": "markdown",
      "metadata": {
        "id": "N3nEUrBjsWSH"
      },
      "source": [
        "Defining The Loss Function"
      ]
    },
    {
      "cell_type": "code",
      "metadata": {
        "id": "9r0H-GJysYVC"
      },
      "source": [
        "def squared_loss(y_hat, y):  #@save\n",
        "    \"\"\"Squared loss.\"\"\"\n",
        "    return (y_hat - y.reshape(y_hat.shape))**2 / 2"
      ],
      "execution_count": 26,
      "outputs": []
    },
    {
      "cell_type": "markdown",
      "metadata": {
        "id": "45krc_U6sa9d"
      },
      "source": [
        "Deffining The Optimization Algorithm"
      ]
    },
    {
      "cell_type": "code",
      "metadata": {
        "id": "Vd-UUoIrsczb"
      },
      "source": [
        "def sgd(params, lr, batch_size):  #@save\n",
        "    \"\"\"Minibatch stochastic gradient descent.\"\"\"\n",
        "    with torch.no_grad():\n",
        "        for param in params:\n",
        "            param -= lr * param.grad / batch_size\n",
        "            param.grad.zero_()"
      ],
      "execution_count": 27,
      "outputs": []
    },
    {
      "cell_type": "markdown",
      "metadata": {
        "id": "CZ-3D9Rcse_Y"
      },
      "source": [
        "Training"
      ]
    },
    {
      "cell_type": "code",
      "metadata": {
        "id": "BmBGrJk7sgdx"
      },
      "source": [
        "lr = 0.03\n",
        "num_epochs = 3\n",
        "net = linreg\n",
        "loss = squared_loss"
      ],
      "execution_count": 28,
      "outputs": []
    },
    {
      "cell_type": "code",
      "metadata": {
        "colab": {
          "base_uri": "https://localhost:8080/"
        },
        "id": "94fuDiWNskgV",
        "outputId": "a761d754-6cc8-4458-f79a-22eaf8660603"
      },
      "source": [
        "for epoch in range(num_epochs):\n",
        "    for X, y in data_iter(batch_size, features, labels):\n",
        "        l = loss(net(X, w, b), y)  # Minibatch loss in `X` and `y`\n",
        "        # Compute gradient on `l` with respect to [`w`, `b`]\n",
        "        l.sum().backward()\n",
        "        sgd([w, b], lr, batch_size)  # Update parameters using their gradient\n",
        "    with torch.no_grad():\n",
        "        train_l = loss(net(features, w, b), labels)\n",
        "        print(f'epoch {epoch + 1}, loss {float(train_l.mean()):f}')"
      ],
      "execution_count": 29,
      "outputs": [
        {
          "output_type": "stream",
          "name": "stdout",
          "text": [
            "epoch 1, loss 0.035038\n",
            "epoch 2, loss 0.000125\n",
            "epoch 3, loss 0.000048\n"
          ]
        }
      ]
    },
    {
      "cell_type": "code",
      "metadata": {
        "colab": {
          "base_uri": "https://localhost:8080/"
        },
        "id": "jfHKwoNp0Q7n",
        "outputId": "99a5c1ce-e369-450a-d2fa-eaa6b0efb0e9"
      },
      "source": [
        "print(f'error in estimating w: {true_w - w.reshape(true_w.shape)}')\n",
        "print(f'error in estimating b: {true_b - b}')"
      ],
      "execution_count": 44,
      "outputs": [
        {
          "output_type": "stream",
          "name": "stdout",
          "text": [
            "error in estimating w: tensor([ 0.0004, -0.0015], grad_fn=<SubBackward0>)\n",
            "error in estimating b: tensor([0.0006], grad_fn=<RsubBackward1>)\n"
          ]
        }
      ]
    }
  ]
}
